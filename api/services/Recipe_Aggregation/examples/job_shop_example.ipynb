{
 "cells": [
  {
   "cell_type": "markdown",
   "metadata": {},
   "source": [
    "https://developers.google.com/optimization/scheduling/job_shop"
   ]
  },
  {
   "cell_type": "code",
   "execution_count": 1,
   "metadata": {},
   "outputs": [],
   "source": [
    "import collections\n",
    "from ortools.sat.python import cp_model"
   ]
  },
  {
   "cell_type": "code",
   "execution_count": 2,
   "metadata": {},
   "outputs": [],
   "source": [
    "jobs_data = [  # task = (machine_id, processing_time).\n",
    "    [(0, 3), (1, 2), (2, 2)],  # Job0\n",
    "    [(0, 2), (2, 1), (1, 4)],  # Job1\n",
    "    [(1, 4), (2, 3)],  # Job2\n",
    "]\n",
    "\n",
    "machines_count = 1 + max(task[0] for job in jobs_data for task in job)\n",
    "all_machines = range(machines_count)\n",
    "# Computes horizon dynamically as the sum of all durations.\n",
    "horizon = sum(task[1] for job in jobs_data for task in job)"
   ]
  },
  {
   "cell_type": "markdown",
   "metadata": {},
   "source": [
    "CP = Constraint Programming\n",
    "cp_model.CpModel is a object to do all the cp stuff."
   ]
  },
  {
   "cell_type": "code",
   "execution_count": 3,
   "metadata": {},
   "outputs": [],
   "source": [
    "model = cp_model.CpModel()"
   ]
  },
  {
   "cell_type": "code",
   "execution_count": 4,
   "metadata": {},
   "outputs": [
    {
     "name": "stdout",
     "output_type": "stream",
     "text": [
      "{(0, 0): task_type(start=start_0_0(0..21), end=end_0_0(0..21), interval=interval_0_0(start = start_0_0, size = 3, end = end_0_0)), (0, 1): task_type(start=start_0_1(0..21), end=end_0_1(0..21), interval=interval_0_1(start = start_0_1, size = 2, end = end_0_1)), (0, 2): task_type(start=start_0_2(0..21), end=end_0_2(0..21), interval=interval_0_2(start = start_0_2, size = 2, end = end_0_2)), (1, 0): task_type(start=start_1_0(0..21), end=end_1_0(0..21), interval=interval_1_0(start = start_1_0, size = 2, end = end_1_0)), (1, 1): task_type(start=start_1_1(0..21), end=end_1_1(0..21), interval=interval_1_1(start = start_1_1, size = 1, end = end_1_1)), (1, 2): task_type(start=start_1_2(0..21), end=end_1_2(0..21), interval=interval_1_2(start = start_1_2, size = 4, end = end_1_2)), (2, 0): task_type(start=start_2_0(0..21), end=end_2_0(0..21), interval=interval_2_0(start = start_2_0, size = 4, end = end_2_0)), (2, 1): task_type(start=start_2_1(0..21), end=end_2_1(0..21), interval=interval_2_1(start = start_2_1, size = 3, end = end_2_1))}\n",
      "{0: [interval_0_0(start = start_0_0, size = 3, end = end_0_0), interval_1_0(start = start_1_0, size = 2, end = end_1_0)], 1: [interval_0_1(start = start_0_1, size = 2, end = end_0_1), interval_1_2(start = start_1_2, size = 4, end = end_1_2), interval_2_0(start = start_2_0, size = 4, end = end_2_0)], 2: [interval_0_2(start = start_0_2, size = 2, end = end_0_2), interval_1_1(start = start_1_1, size = 1, end = end_1_1), interval_2_1(start = start_2_1, size = 3, end = end_2_1)]}\n"
     ]
    }
   ],
   "source": [
    "# Named tuple to store information about created variables.\n",
    "task_type = collections.namedtuple(\"task_type\", \"start end interval\")\n",
    "# Named tuple to manipulate solution information.\n",
    "assigned_task_type = collections.namedtuple(\n",
    "    \"assigned_task_type\", \"start job index duration\"\n",
    ")\n",
    "\n",
    "# Creates job intervals and add to the corresponding machine lists.\n",
    "all_tasks = {}\n",
    "machine_to_intervals = collections.defaultdict(list)\n",
    "\n",
    "for job_id, job in enumerate(jobs_data):\n",
    "    for task_id, task in enumerate(job):\n",
    "        machine, duration = task\n",
    "        suffix = f\"_{job_id}_{task_id}\"\n",
    "        start_var = model.new_int_var(0, horizon, \"start\" + suffix)\n",
    "        end_var = model.new_int_var(0, horizon, \"end\" + suffix)\n",
    "        interval_var = model.new_interval_var(\n",
    "            start_var, duration, end_var, \"interval\" + suffix\n",
    "        )\n",
    "        all_tasks[job_id, task_id] = task_type(\n",
    "            start=start_var, end=end_var, interval=interval_var\n",
    "        )\n",
    "        machine_to_intervals[machine].append(interval_var)\n",
    "print(all_tasks)\n",
    "print(dict(machine_to_intervals))\n",
    "# step representation: (job_id, order)"
   ]
  },
  {
   "cell_type": "code",
   "execution_count": 5,
   "metadata": {},
   "outputs": [],
   "source": [
    "# Create and add disjunctive constraints.\n",
    "for machine in all_machines:\n",
    "    model.add_no_overlap(machine_to_intervals[machine])\n",
    "\n",
    "# Precedences inside a job.\n",
    "for job_id, job in enumerate(jobs_data):\n",
    "    for task_id in range(len(job) - 1):\n",
    "        model.add(\n",
    "            all_tasks[job_id, task_id + 1].start >= all_tasks[job_id, task_id].end\n",
    "        )"
   ]
  },
  {
   "cell_type": "code",
   "execution_count": 6,
   "metadata": {},
   "outputs": [],
   "source": [
    "# Makespan objective.\n",
    "obj_var = model.new_int_var(0, horizon, \"makespan\")\n",
    "model.add_max_equality(\n",
    "    obj_var,\n",
    "    [all_tasks[job_id, len(job) - 1].end for job_id, job in enumerate(jobs_data)],\n",
    ")\n",
    "model.minimize(obj_var)"
   ]
  },
  {
   "cell_type": "code",
   "execution_count": 7,
   "metadata": {},
   "outputs": [],
   "source": [
    "solver = cp_model.CpSolver()\n",
    "status = solver.solve(model)"
   ]
  },
  {
   "cell_type": "code",
   "execution_count": 8,
   "metadata": {},
   "outputs": [
    {
     "name": "stdout",
     "output_type": "stream",
     "text": [
      "Solution:\n",
      "Optimal Schedule Length: 11.0\n",
      "Machine 0: job_1_task_0   job_0_task_0   \n",
      "           [0,2]          [2,5]          \n",
      "Machine 1: job_2_task_0   job_0_task_1   job_1_task_2   \n",
      "           [0,4]          [5,7]          [7,11]         \n",
      "Machine 2: job_1_task_1   job_2_task_1   job_0_task_2   \n",
      "           [2,3]          [4,7]          [7,9]          \n",
      "\n"
     ]
    }
   ],
   "source": [
    "if status == cp_model.OPTIMAL or status == cp_model.FEASIBLE:\n",
    "    print(\"Solution:\")\n",
    "    # Create one list of assigned tasks per machine.\n",
    "    assigned_jobs = collections.defaultdict(list)\n",
    "    for job_id, job in enumerate(jobs_data):\n",
    "        for task_id, task in enumerate(job):\n",
    "            machine = task[0]\n",
    "            assigned_jobs[machine].append(\n",
    "                assigned_task_type(\n",
    "                    start=solver.value(all_tasks[job_id, task_id].start),\n",
    "                    job=job_id,\n",
    "                    index=task_id,\n",
    "                    duration=task[1],\n",
    "                )\n",
    "            )\n",
    "\n",
    "    # Create per machine output lines.\n",
    "    output = \"\"\n",
    "    for machine in all_machines:\n",
    "        # Sort by starting time.\n",
    "        assigned_jobs[machine].sort()\n",
    "        sol_line_tasks = \"Machine \" + str(machine) + \": \"\n",
    "        sol_line = \"           \"\n",
    "\n",
    "        for assigned_task in assigned_jobs[machine]:\n",
    "            name = f\"job_{assigned_task.job}_task_{assigned_task.index}\"\n",
    "            # add spaces to output to align columns.\n",
    "            sol_line_tasks += f\"{name:15}\"\n",
    "\n",
    "            start = assigned_task.start\n",
    "            duration = assigned_task.duration\n",
    "            sol_tmp = f\"[{start},{start + duration}]\"\n",
    "            # add spaces to output to align columns.\n",
    "            sol_line += f\"{sol_tmp:15}\"\n",
    "\n",
    "        sol_line += \"\\n\"\n",
    "        sol_line_tasks += \"\\n\"\n",
    "        output += sol_line_tasks\n",
    "        output += sol_line\n",
    "\n",
    "    # Finally print the solution found.\n",
    "    print(f\"Optimal Schedule Length: {solver.objective_value}\")\n",
    "    print(output)\n",
    "else:\n",
    "    print(\"No solution found.\")"
   ]
  }
 ],
 "metadata": {
  "kernelspec": {
   "display_name": "base",
   "language": "python",
   "name": "python3"
  },
  "language_info": {
   "codemirror_mode": {
    "name": "ipython",
    "version": 3
   },
   "file_extension": ".py",
   "mimetype": "text/x-python",
   "name": "python",
   "nbconvert_exporter": "python",
   "pygments_lexer": "ipython3",
   "version": "3.10.2"
  }
 },
 "nbformat": 4,
 "nbformat_minor": 2
}
